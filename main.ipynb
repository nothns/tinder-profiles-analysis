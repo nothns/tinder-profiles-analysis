{
 "cells": [
  {
   "cell_type": "code",
   "execution_count": 3,
   "metadata": {
    "collapsed": true
   },
   "outputs": [],
   "source": [
    "import json\n",
    "import numpy as np\n",
    "import pandas as pd"
   ]
  },
  {
   "cell_type": "code",
   "execution_count": 9,
   "outputs": [],
   "source": [
    "# f = open('profiles_2021-11-10.json', encoding='utf-8')\n",
    "# d = json.load(f)"
   ],
   "metadata": {
    "collapsed": false
   }
  },
  {
   "cell_type": "code",
   "execution_count": 4,
   "outputs": [
    {
     "data": {
      "text/plain": "     caseid_new  xw6_year xw6_month  xw6_last           xw6_marry  \\\n0         22526      2014  December         3  unmarried partners   \n1         28536      2014  December         3  unmarried partners   \n2         29584      2014  December         3             married   \n3         48225      2014  December         3             married   \n4         49731      2014  December         3             married   \n..          ...       ...       ...       ...                 ...   \n635     4563631      2014  November         3             married   \n636     4583501      2015     March         2             married   \n637     4597381      2013     March         4             married   \n638     4613511      2014  December         3             married   \n639     4621371      2014  December         3             married   \n\n    w6_still_mar w6_live_together  \\\n0            NaN              NaN   \n1            NaN              NaN   \n2            Yes              Yes   \n3            Yes              Yes   \n4            Yes              Yes   \n..           ...              ...   \n635          Yes              Yes   \n636           No              NaN   \n637          Yes              Yes   \n638          Yes              Yes   \n639          Yes              Yes   \n\n                                          w6_otherdate w6_how_many  \\\n0                                                  NaN         NaN   \n1                                                  NaN         NaN   \n2    No, I have not met anyone for dating, romance,...         NaN   \n3    No, I have not met anyone for dating, romance,...         NaN   \n4    No, I have not met anyone for dating, romance,...         NaN   \n..                                                 ...         ...   \n635  No, I have not met anyone for dating, romance,...         NaN   \n636                                                NaN         NaN   \n637  No, I have not met anyone for dating, romance,...         NaN   \n638  No, I have not met anyone for dating, romance,...         NaN   \n639  No, I have not met anyone for dating, romance,...         NaN   \n\n    w6_otherdate_app  ... w6_met_through_as_coworkers w6_met_online_dating  \\\n0                NaN  ...                         NaN                  NaN   \n1                NaN  ...                          no                   no   \n2                NaN  ...                         NaN                  NaN   \n3                NaN  ...                         NaN                  NaN   \n4                NaN  ...                         NaN                  NaN   \n..               ...  ...                         ...                  ...   \n635              NaN  ...                         NaN                  NaN   \n636              NaN  ...                         NaN                  NaN   \n637              NaN  ...                         NaN                  NaN   \n638              NaN  ...                         NaN                  NaN   \n639              NaN  ...                         NaN                  NaN   \n\n    w6_met_bar_restaurant w6_how_met_story_length w6_combo_live_together  \\\n0                     NaN                       0                    yes   \n1                      no                       6                    yes   \n2                     NaN                       0                    yes   \n3                     NaN                       0                    yes   \n4                     NaN                       0                    yes   \n..                    ...                     ...                    ...   \n635                   NaN                       0                    yes   \n636                   NaN                       0                     no   \n637                   NaN                       0                    yes   \n638                   NaN                       0                    yes   \n639                   NaN                       0                    yes   \n\n                                    w6_otherdate_combo  \\\n0    No, I have not met anyone for dating, romance,...   \n1    Yes, I have met at least one person for dating...   \n2    No, I have not met anyone for dating, romance,...   \n3    No, I have not met anyone for dating, romance,...   \n4    No, I have not met anyone for dating, romance,...   \n..                                                 ...   \n635  No, I have not met anyone for dating, romance,...   \n636  No, I have not met anyone for dating, romance,...   \n637  No, I have not met anyone for dating, romance,...   \n638  No, I have not met anyone for dating, romance,...   \n639  No, I have not met anyone for dating, romance,...   \n\n                                     w6_how_many_combo  \\\n0                                        met no people   \n1    Six to Twenty people. I met between six and tw...   \n2                                        met no people   \n3                                        met no people   \n4                                        met no people   \n..                                                 ...   \n635                                      met no people   \n636                                      met no people   \n637                                      met no people   \n638                                      met no people   \n639                                      met no people   \n\n                                w6_otherdate_app_combo  \\\n0                                                  NaN   \n1    Yes, I have used a phone dating app in the pas...   \n2                                                  NaN   \n3                                                  NaN   \n4                                                  NaN   \n..                                                 ...   \n635                                                NaN   \n636                                                NaN   \n637                                                NaN   \n638                                                NaN   \n639                                                NaN   \n\n                                 w6_how_many_app_combo w6_HCMST_yrmo  \n0                                                  NaN        201707  \n1    Two to Five people. Using phone apps, I met be...        201707  \n2                                                  NaN        201707  \n3                                                  NaN        201707  \n4                                                  NaN        201707  \n..                                                 ...           ...  \n635                                                NaN        201707  \n636                                                NaN        201708  \n637                                                NaN        201707  \n638                                                NaN        201707  \n639                                                NaN        201707  \n\n[640 rows x 77 columns]",
      "text/html": "<div>\n<style scoped>\n    .dataframe tbody tr th:only-of-type {\n        vertical-align: middle;\n    }\n\n    .dataframe tbody tr th {\n        vertical-align: top;\n    }\n\n    .dataframe thead th {\n        text-align: right;\n    }\n</style>\n<table border=\"1\" class=\"dataframe\">\n  <thead>\n    <tr style=\"text-align: right;\">\n      <th></th>\n      <th>caseid_new</th>\n      <th>xw6_year</th>\n      <th>xw6_month</th>\n      <th>xw6_last</th>\n      <th>xw6_marry</th>\n      <th>w6_still_mar</th>\n      <th>w6_live_together</th>\n      <th>w6_otherdate</th>\n      <th>w6_how_many</th>\n      <th>w6_otherdate_app</th>\n      <th>...</th>\n      <th>w6_met_through_as_coworkers</th>\n      <th>w6_met_online_dating</th>\n      <th>w6_met_bar_restaurant</th>\n      <th>w6_how_met_story_length</th>\n      <th>w6_combo_live_together</th>\n      <th>w6_otherdate_combo</th>\n      <th>w6_how_many_combo</th>\n      <th>w6_otherdate_app_combo</th>\n      <th>w6_how_many_app_combo</th>\n      <th>w6_HCMST_yrmo</th>\n    </tr>\n  </thead>\n  <tbody>\n    <tr>\n      <th>0</th>\n      <td>22526</td>\n      <td>2014</td>\n      <td>December</td>\n      <td>3</td>\n      <td>unmarried partners</td>\n      <td>NaN</td>\n      <td>NaN</td>\n      <td>NaN</td>\n      <td>NaN</td>\n      <td>NaN</td>\n      <td>...</td>\n      <td>NaN</td>\n      <td>NaN</td>\n      <td>NaN</td>\n      <td>0</td>\n      <td>yes</td>\n      <td>No, I have not met anyone for dating, romance,...</td>\n      <td>met no people</td>\n      <td>NaN</td>\n      <td>NaN</td>\n      <td>201707</td>\n    </tr>\n    <tr>\n      <th>1</th>\n      <td>28536</td>\n      <td>2014</td>\n      <td>December</td>\n      <td>3</td>\n      <td>unmarried partners</td>\n      <td>NaN</td>\n      <td>NaN</td>\n      <td>NaN</td>\n      <td>NaN</td>\n      <td>NaN</td>\n      <td>...</td>\n      <td>no</td>\n      <td>no</td>\n      <td>no</td>\n      <td>6</td>\n      <td>yes</td>\n      <td>Yes, I have met at least one person for dating...</td>\n      <td>Six to Twenty people. I met between six and tw...</td>\n      <td>Yes, I have used a phone dating app in the pas...</td>\n      <td>Two to Five people. Using phone apps, I met be...</td>\n      <td>201707</td>\n    </tr>\n    <tr>\n      <th>2</th>\n      <td>29584</td>\n      <td>2014</td>\n      <td>December</td>\n      <td>3</td>\n      <td>married</td>\n      <td>Yes</td>\n      <td>Yes</td>\n      <td>No, I have not met anyone for dating, romance,...</td>\n      <td>NaN</td>\n      <td>NaN</td>\n      <td>...</td>\n      <td>NaN</td>\n      <td>NaN</td>\n      <td>NaN</td>\n      <td>0</td>\n      <td>yes</td>\n      <td>No, I have not met anyone for dating, romance,...</td>\n      <td>met no people</td>\n      <td>NaN</td>\n      <td>NaN</td>\n      <td>201707</td>\n    </tr>\n    <tr>\n      <th>3</th>\n      <td>48225</td>\n      <td>2014</td>\n      <td>December</td>\n      <td>3</td>\n      <td>married</td>\n      <td>Yes</td>\n      <td>Yes</td>\n      <td>No, I have not met anyone for dating, romance,...</td>\n      <td>NaN</td>\n      <td>NaN</td>\n      <td>...</td>\n      <td>NaN</td>\n      <td>NaN</td>\n      <td>NaN</td>\n      <td>0</td>\n      <td>yes</td>\n      <td>No, I have not met anyone for dating, romance,...</td>\n      <td>met no people</td>\n      <td>NaN</td>\n      <td>NaN</td>\n      <td>201707</td>\n    </tr>\n    <tr>\n      <th>4</th>\n      <td>49731</td>\n      <td>2014</td>\n      <td>December</td>\n      <td>3</td>\n      <td>married</td>\n      <td>Yes</td>\n      <td>Yes</td>\n      <td>No, I have not met anyone for dating, romance,...</td>\n      <td>NaN</td>\n      <td>NaN</td>\n      <td>...</td>\n      <td>NaN</td>\n      <td>NaN</td>\n      <td>NaN</td>\n      <td>0</td>\n      <td>yes</td>\n      <td>No, I have not met anyone for dating, romance,...</td>\n      <td>met no people</td>\n      <td>NaN</td>\n      <td>NaN</td>\n      <td>201707</td>\n    </tr>\n    <tr>\n      <th>...</th>\n      <td>...</td>\n      <td>...</td>\n      <td>...</td>\n      <td>...</td>\n      <td>...</td>\n      <td>...</td>\n      <td>...</td>\n      <td>...</td>\n      <td>...</td>\n      <td>...</td>\n      <td>...</td>\n      <td>...</td>\n      <td>...</td>\n      <td>...</td>\n      <td>...</td>\n      <td>...</td>\n      <td>...</td>\n      <td>...</td>\n      <td>...</td>\n      <td>...</td>\n      <td>...</td>\n    </tr>\n    <tr>\n      <th>635</th>\n      <td>4563631</td>\n      <td>2014</td>\n      <td>November</td>\n      <td>3</td>\n      <td>married</td>\n      <td>Yes</td>\n      <td>Yes</td>\n      <td>No, I have not met anyone for dating, romance,...</td>\n      <td>NaN</td>\n      <td>NaN</td>\n      <td>...</td>\n      <td>NaN</td>\n      <td>NaN</td>\n      <td>NaN</td>\n      <td>0</td>\n      <td>yes</td>\n      <td>No, I have not met anyone for dating, romance,...</td>\n      <td>met no people</td>\n      <td>NaN</td>\n      <td>NaN</td>\n      <td>201707</td>\n    </tr>\n    <tr>\n      <th>636</th>\n      <td>4583501</td>\n      <td>2015</td>\n      <td>March</td>\n      <td>2</td>\n      <td>married</td>\n      <td>No</td>\n      <td>NaN</td>\n      <td>NaN</td>\n      <td>NaN</td>\n      <td>NaN</td>\n      <td>...</td>\n      <td>NaN</td>\n      <td>NaN</td>\n      <td>NaN</td>\n      <td>0</td>\n      <td>no</td>\n      <td>No, I have not met anyone for dating, romance,...</td>\n      <td>met no people</td>\n      <td>NaN</td>\n      <td>NaN</td>\n      <td>201708</td>\n    </tr>\n    <tr>\n      <th>637</th>\n      <td>4597381</td>\n      <td>2013</td>\n      <td>March</td>\n      <td>4</td>\n      <td>married</td>\n      <td>Yes</td>\n      <td>Yes</td>\n      <td>No, I have not met anyone for dating, romance,...</td>\n      <td>NaN</td>\n      <td>NaN</td>\n      <td>...</td>\n      <td>NaN</td>\n      <td>NaN</td>\n      <td>NaN</td>\n      <td>0</td>\n      <td>yes</td>\n      <td>No, I have not met anyone for dating, romance,...</td>\n      <td>met no people</td>\n      <td>NaN</td>\n      <td>NaN</td>\n      <td>201707</td>\n    </tr>\n    <tr>\n      <th>638</th>\n      <td>4613511</td>\n      <td>2014</td>\n      <td>December</td>\n      <td>3</td>\n      <td>married</td>\n      <td>Yes</td>\n      <td>Yes</td>\n      <td>No, I have not met anyone for dating, romance,...</td>\n      <td>NaN</td>\n      <td>NaN</td>\n      <td>...</td>\n      <td>NaN</td>\n      <td>NaN</td>\n      <td>NaN</td>\n      <td>0</td>\n      <td>yes</td>\n      <td>No, I have not met anyone for dating, romance,...</td>\n      <td>met no people</td>\n      <td>NaN</td>\n      <td>NaN</td>\n      <td>201707</td>\n    </tr>\n    <tr>\n      <th>639</th>\n      <td>4621371</td>\n      <td>2014</td>\n      <td>December</td>\n      <td>3</td>\n      <td>married</td>\n      <td>Yes</td>\n      <td>Yes</td>\n      <td>No, I have not met anyone for dating, romance,...</td>\n      <td>NaN</td>\n      <td>NaN</td>\n      <td>...</td>\n      <td>NaN</td>\n      <td>NaN</td>\n      <td>NaN</td>\n      <td>0</td>\n      <td>yes</td>\n      <td>No, I have not met anyone for dating, romance,...</td>\n      <td>met no people</td>\n      <td>NaN</td>\n      <td>NaN</td>\n      <td>201707</td>\n    </tr>\n  </tbody>\n</table>\n<p>640 rows × 77 columns</p>\n</div>"
     },
     "execution_count": 4,
     "metadata": {},
     "output_type": "execute_result"
    }
   ],
   "source": [
    "df = pd.io.stata.read_stata(\"test.dta\")\n",
    "df"
   ],
   "metadata": {
    "collapsed": false
   }
  },
  {
   "cell_type": "code",
   "execution_count": null,
   "outputs": [],
   "source": [],
   "metadata": {
    "collapsed": false
   }
  }
 ],
 "metadata": {
  "kernelspec": {
   "display_name": "Python 3",
   "language": "python",
   "name": "python3"
  },
  "language_info": {
   "codemirror_mode": {
    "name": "ipython",
    "version": 2
   },
   "file_extension": ".py",
   "mimetype": "text/x-python",
   "name": "python",
   "nbconvert_exporter": "python",
   "pygments_lexer": "ipython2",
   "version": "2.7.6"
  }
 },
 "nbformat": 4,
 "nbformat_minor": 0
}
